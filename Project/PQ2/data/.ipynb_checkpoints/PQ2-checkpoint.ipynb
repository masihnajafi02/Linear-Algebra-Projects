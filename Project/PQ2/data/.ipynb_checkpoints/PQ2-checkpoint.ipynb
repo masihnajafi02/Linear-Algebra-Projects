{
 "cells": [
  {
   "cell_type": "markdown",
   "id": "f758ace8",
   "metadata": {},
   "source": [
    "<div dir=\"rtl\" align=\"center\">\n",
    "\n",
    "به نام خداوند بخشنده مهربان\n",
    "\n",
    "<h1>\n",
    "پروژه پایانی جبر خطی\n",
    "</h1>\n",
    "\n",
    "حمیدرضا ربیعی، مریم رمضانی\n",
    "\n",
    "</div>"
   ]
  },
  {
   "cell_type": "markdown",
   "id": "4154a4c8",
   "metadata": {},
   "source": [
    "<div dir=\"rtl\">\n",
    "\n",
    "نام و نام‌خانوادگی:‌ ابوالفضل اسحاق\n",
    "\n",
    "شماره دانشجویی: 99101105\n",
    "\n",
    "</div>"
   ]
  },
  {
   "cell_type": "markdown",
   "id": "43d30337-b86a-4a50-9821-3c57f547dab5",
   "metadata": {},
   "source": [
    "<div dir=\"rtl\">\n",
    "    <h1>\n",
    "        خوشه‌بندی کاربران در شبکه‌های اجتماعی\n",
    "    </h1>\n",
    "</div>"
   ]
  },
  {
   "cell_type": "code",
   "execution_count": 1,
   "id": "4f10cb0a",
   "metadata": {},
   "outputs": [
    {
     "name": "stdout",
     "output_type": "stream",
     "text": [
      "hello friend\n"
     ]
    }
   ],
   "source": [
    "print(\"hello friend\")"
   ]
  },
  {
   "cell_type": "markdown",
   "id": "413411cf-1bbb-4577-9b64-1ef6aee2f18a",
   "metadata": {},
   "source": [
    "<div dir=\"rtl\">\n",
    "    هدف از این پروژه، جدا کردن و گروه‌بندی رئوس یک گراف همبند به صورت خوشه‌هایی است که بیشترین ارتباط را با هم دارند.\n",
    "    برای مثال، ارتباط دوستی در یک شبکه‌ی اجتماعی را به صورت یال‌های بدون جهت بین کاربران در نظر بگیرید.\n",
    "    می‌خواهیم کاربرانی که با هم بیشترین ارتباط را داشته و اجتماع‌های کوچک را تشکیل می‌دهند، پیدا کنیم.\n",
    "    مثلا در گراف زیر، قرار است راس‌های ۱ تا ۴ در یک دسته و راس‌های ۵ تا ۹ در دسته‌ی دیگر قرار گیرند.\n",
    "    </br>\n",
    "    در این پروژه، ابتدا با دنبال کردن مراحل، قدم به قدم گراف زیر را خوشه‌بندی می‌کنید، سپس خودتان مراحل را روی گراف شامل ۳۵۱ فرد اجرا می‌کنید تا خوشه‌هایشان مشخص شود. \n",
    "</div>"
   ]
  },
  {
   "cell_type": "markdown",
   "id": "27a7c58c-151c-4d51-9866-a121e7b82bb0",
   "metadata": {},
   "source": [
    "<center>\n",
    "\n",
    "![Graph](data:image/jpeg;base64,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\n",
    ")\n",
    "\n",
    "</center>"
   ]
  },
  {
   "cell_type": "code",
   "execution_count": 1,
   "id": "0f0ceca9-acff-4fb8-9b0a-43b0f2f729e4",
   "metadata": {},
   "outputs": [],
   "source": [
    "#      !pip install networkx== 4.4.2\n",
    "# !pip install matplot\n",
    "# !pip install numpy\n",
    "import numpy as np\n",
    "import matplotlib.pyplot as plt\n",
    "import networkx as nx\n"
   ]
  },
  {
   "cell_type": "code",
   "execution_count": 2,
   "id": "f956bbd3-6b41-443b-83ce-1841d50395cd",
   "metadata": {},
   "outputs": [
    {
     "data": {
      "text/plain": [
       "array([[0, 1, 0, 1, 0, 0, 0, 0, 0],\n",
       "       [1, 0, 1, 0, 0, 0, 0, 0, 0],\n",
       "       [0, 1, 0, 1, 1, 0, 0, 0, 0],\n",
       "       [1, 0, 1, 0, 0, 0, 0, 0, 0],\n",
       "       [0, 0, 1, 0, 0, 1, 0, 1, 1],\n",
       "       [0, 0, 0, 0, 1, 0, 1, 0, 0],\n",
       "       [0, 0, 0, 0, 0, 1, 0, 1, 1],\n",
       "       [0, 0, 0, 0, 1, 0, 1, 0, 1],\n",
       "       [0, 0, 0, 0, 1, 0, 1, 1, 0]])"
      ]
     },
     "execution_count": 2,
     "metadata": {},
     "output_type": "execute_result"
    }
   ],
   "source": [
    "# print(\"not ok\")\n",
    "a = [[0,1,0],[1,0,0],[0,0,0]]\n",
    "adj = np.array(a)\n",
    "# print(\"ok\")\n",
    "adj = np.array([[0,1,0,1,0,0,0,0,0],[1,0,1,0,0,0,0,0,0],[0,1,0,1,1,0,0,0,0],[1,0,1,0,0,0,0,0,0],[0,0,1,0,0,1,0,1,1],[0,0,0,0,1,0,1,0,0],[0,0,0,0,0,1,0,1,1],[0,0,0,0,1,0,1,0,1],[0,0,0,0,1,0,1,1,0]])\n",
    "adj"
   ]
  },
  {
   "cell_type": "code",
   "execution_count": 3,
   "id": "6dd927c0-9ae0-491d-a15f-027cff277b66",
   "metadata": {},
   "outputs": [
    {
     "data": {
      "image/png": "[encoded data removed]",
      "text/plain": [
       "<Figure size 432x288 with 1 Axes>"
      ]
     },
     "metadata": {},
     "output_type": "display_data"
    }
   ],
   "source": [
    "def show_graph(adjacency_matrix, labels=None, node_size=500):\n",
    "    color_map = {1: 'blue', 2: 'green', 3: 'red', 4: 'yellow'}\n",
    "    colors = [color_map[x] for x in labels] if labels is not None else None\n",
    "        \n",
    "    rows, cols = np.where(adjacency_matrix == 1)\n",
    "    edges = zip(rows.tolist(), cols.tolist())\n",
    "    gr = nx.Graph()\n",
    "    gr.add_edges_from(edges)\n",
    "    nx.draw(gr, node_size=node_size, node_color=np.array(colors)[list(gr.nodes)] if labels is not None else None)\n",
    "    plt.show()\n",
    "\n",
    "show_graph(adj,[1, 1, 1, 1, 2, 2, 2, 2, 2])\n"
   ]
  },
  {
   "cell_type": "markdown",
   "id": "d1f3cfad-3b91-4b7b-bb97-33ee0e1fa01e",
   "metadata": {},
   "source": [
    "<div dir=\"rtl\">\n",
    "    می‌توانید از تابع show_graph برای نمایش گراف خود استفاده کنید.\n",
    "    ورودی اول این تابع ماتریس مجاورت بوده و ورودی دوم آن در صورت داده شدن، باید به صورت یک لیست از اعداد ۱ تا ۴ باشد.\n",
    "    بعد از خوشه‌بندی می‌توانید شماره‌ی خوشه‌ی متناظر با هر راس را در این لیست قرار دهید تا رنگ آن‌ها مشخص باشند.\n",
    "</div>"
   ]
  },
  {
   "cell_type": "markdown",
   "id": "191b2b50-fb3a-487e-9cf6-d54a8ff40d27",
   "metadata": {},
   "source": [
    "<div dir=\"rtl\">\n",
    "    <h2>\n",
    "        گراف تمرینی\n",
    "    </h2>\n",
    "</div>"
   ]
  },
  {
   "cell_type": "markdown",
   "id": "70e35a6d-b544-4d87-a09c-a345be8aefe2",
   "metadata": {},
   "source": [
    "<div dir=\"rtl\">\n",
    "    ابتدا ماتریس مجاورت گراف را به شکل یک ماتریس در numpy تعریف کنید.\n",
    "    در این ماتریس، اگر بین دو راس i و j یال وجود داشته باشد،\n",
    "    درایه‌ی i,j یک خواهد بود.\n",
    "    بنابراین به دلیل بدون جهت بودن گراف، ماتریس متقارن خواهد بود.\n",
    "</div>"
   ]
  },
  {
   "cell_type": "code",
   "execution_count": 6,
   "id": "464b8fb5-7334-4b37-a6d2-b2f5f44e9184",
   "metadata": {},
   "outputs": [],
   "source": [
    "adj = np.array([[0,1,0,1,0,0,0,0,0],[1,0,1,0,0,0,0,0,0],[0,1,0,1,1,0,0,0,0],[1,0,1,0,0,0,0,0,0],[0,0,1,0,0,1,0,1,1],[0,0,0,0,1,0,1,0,0],[0,0,0,0,0,1,0,1,1],[0,0,0,0,1,0,1,0,1],[0,0,0,0,1,0,1,1,0]])"
   ]
  },
  {
   "cell_type": "markdown",
   "id": "027f30a1-a3e0-47fb-b4db-8bef843d31ac",
   "metadata": {},
   "source": [
    "<div dir=\"rtl\">\n",
    "    در این مرحله، ابتدا جمع سطرها را محاسبه کرده و در بردار Sum ذخیره کنید.\n",
    "    سپس ماتریس لاپلاسین را به صورت\n",
    "    $\n",
    "    Lapl = diag(Sum) - Adj\n",
    "    $\n",
    "    محاسبه کنید.\n",
    "    منظور از\n",
    "    $diag(x)$\n",
    "    ماتریس قطری‌ای است که درایه‌های\n",
    "    $x$\n",
    "    روی قطر اصلی آن قرار گرفته و بقیه‌ی درایه‌های آن صفر هستند.\n",
    "    هدف از محاسبه‌ی این ماتریس این است که با حفظ ویژگی‌های ماتریس مجاورت، جمع سطرها و ستون‌های آن نیز صفر شوند.\n",
    "</div>"
   ]
  },
  {
   "cell_type": "code",
   "execution_count": 7,
   "id": "050d5a4d-cd82-4f9d-a5f0-a2b026c46843",
   "metadata": {},
   "outputs": [],
   "source": [
    "sum = np.sum(adj, axis=1)\n",
    "lapl= np.diag(sum) - adj\n",
    "# sum2 = np.sum(lapl, axis=1)\n",
    "# sum2"
   ]
  },
  {
   "cell_type": "markdown",
   "id": "9d240536-892d-4a61-8d80-e20bb05e911f",
   "metadata": {},
   "source": [
    "<div dir=\"rtl\">\n",
    "    حال باید مقدار ویژه و بردار ویژه‌های ماتریس را استخراج کنید.\n",
    "    همچنین باید این مقادیر ویژه و بردار ویژه‌های متناظرشان، از کوچک به بزرگ مرتب شده باشند.\n",
    "</div>"
   ]
  },
  {
   "cell_type": "code",
   "execution_count": 8,
   "id": "89617525-13d3-47c2-b2fc-5283fc858ff0",
   "metadata": {},
   "outputs": [
    {
     "data": {
      "text/plain": [
       "(array([5.55111512e-17, 2.80309588e-01, 2.00000000e+00, 2.00000000e+00,\n",
       "        2.28442262e+00, 3.43361574e+00, 4.00000000e+00, 4.33127361e+00,\n",
       "        5.67037844e+00]),\n",
       " array([[-3.33333333e-01, -4.55542030e-01, -6.13836195e-02,\n",
       "          6.60956034e-01, -3.65964452e-01,  3.26817287e-01,\n",
       "         -9.51001127e-31,  3.92391195e-32,  2.36700344e-17],\n",
       "        [-3.33333333e-01, -3.91695631e-01,  1.12650557e-01,\n",
       "         -9.39954220e-02,  2.62326200e-01, -3.80950258e-01,\n",
       "         -5.77350269e-01,  8.59657133e-18, -6.96310624e-01],\n",
       "        [-3.33333333e-01,  3.40520918e-01,  3.15338226e-01,\n",
       "          2.48954213e-01,  6.56252159e-01,  4.25265918e-01,\n",
       "         -5.00641836e-31,  1.27229307e-32,  2.36700344e-17],\n",
       "        [-3.33333333e-01,  3.08703825e-01, -2.80690800e-01,\n",
       "          5.93820015e-02, -9.48537559e-02, -1.88715098e-01,\n",
       "          2.35702260e-01,  7.07106781e-01,  7.10669055e-02],\n",
       "        [-3.33333333e-01, -3.91695631e-01,  1.12650557e-01,\n",
       "         -9.39954220e-02,  2.62326200e-01, -3.80950258e-01,\n",
       "          5.77350269e-01,  3.06557401e-17,  6.96310624e-01],\n",
       "        [-3.33333333e-01,  1.90354090e-01,  7.14903237e-01,\n",
       "         -2.65843797e-01, -5.20268321e-01,  1.46806087e-02,\n",
       "          2.22044605e-16,  5.36798701e-32,  2.44125835e-16],\n",
       "        [-3.33333333e-01,  3.08703825e-01, -2.80690800e-01,\n",
       "          5.93820015e-02, -9.48537559e-02, -1.88715098e-01,\n",
       "          2.35702260e-01, -7.07106781e-01,  7.10669055e-02],\n",
       "        [-3.33333333e-01,  3.08703825e-01, -2.80690800e-01,\n",
       "          5.93820015e-02, -9.48537559e-02, -1.88715098e-01,\n",
       "         -4.71404521e-01,  2.95099889e-16, -1.42133811e-01],\n",
       "        [-3.33333333e-01, -2.18053191e-01, -3.52086557e-01,\n",
       "         -6.34221610e-01, -1.01105183e-02,  5.61281995e-01,\n",
       "          2.56395025e-16,  4.05270513e-32,  2.85554000e-16]]))"
      ]
     },
     "execution_count": 8,
     "metadata": {},
     "output_type": "execute_result"
    }
   ],
   "source": [
    "w, v = np.linalg.eig(lapl)\n",
    "w,v #w:eigenvalues , v:eigenvectors\n",
    "idx = w.argsort()[::-1]\n",
    "eigenValues = w[idx]\n",
    "eigenVectors = v[idx]\n",
    "# for eigenVector in eigenVectors:\n",
    "#     eigenVector = np.sort(eigenVector)\n",
    "eigenValues = eigenValues[::-1]\n",
    "eigenVectors = eigenVectors[::-1]\n",
    "eigenValues,eigenVectors"
   ]
  },
  {
   "cell_type": "markdown",
   "id": "2fee6bd4-13f3-4f6a-83ae-4f63448fdd5a",
   "metadata": {},
   "source": [
    "<div dir=\"rtl\">\n",
    "    چون جمع سطرهای ماتریس لاپلاسین صفر بود، ماتریس تکین بوده و یک مقدار ویژه‌ی صفر خواهد داشت.\n",
    "    همچنین ماتریس مثبت نیمه معین است و همه‌ی مقادیر ویژه نامنفی هستند.\n",
    "    بنابراین کوچک‌ترین مقدار ویژه صفر بوده و مقدار ويژه‌ی بعدی مثبت خواهد بود.\n",
    "    بردار ویژه‌ی متناظر با این مقدار ویژه را در نظر بگیرید.\n",
    "    این بردار ویژه متناظر با کمترین واریانس است.\n",
    "    (برای اطلاعات بیشتر در مورد PCA مطالعه کنید.)\n",
    "    بنابراین مناسب‌ترین معیار برای خوشه‌بندی است.\n",
    "    </br>\n",
    "    راس‌هایی که درایه‌ی متناظرشان در این بردار ویژه مثبت است را در یک خوشه و راس‌هایی که منفی است را در خوشه‌ی دیگر در نظر بگیرید.\n",
    "    با بررسی خروجی می‌توانید تبدیل شدن گراف اولیه به دو خوشه‌ی گفته شده در ابتدای پروژه را مشاهده کنید.\n",
    "</div>"
   ]
  },
  {
   "cell_type": "code",
   "execution_count": 9,
   "id": "a7d7d680-b57c-4af7-923a-bf56e4bb90bd",
   "metadata": {},
   "outputs": [],
   "source": [
    "focus = eigenVectors[0]\n",
    "l1=[]\n",
    "for i in range(len(focus)):\n",
    "    l1.append(0)\n",
    "for i in range(len(focus)):\n",
    "    if(focus[i]<0):\n",
    "        l1[i] = 1\n",
    "    else:\n",
    "        l1[i] = 2\n"
   ]
  },
  {
   "cell_type": "markdown",
   "id": "6613d51a-f260-464d-9a84-a0b5b7b81ca8",
   "metadata": {},
   "source": [
    "<div dir=\"rtl\">\n",
    "    گراف را با خوشه‌هایی که بدست آوردید توسط تابع show_graph نمایش دهید.\n",
    "</div>"
   ]
  },
  {
   "cell_type": "code",
   "execution_count": 11,
   "id": "68c4809d-da18-4d53-a695-d782ee3cbb69",
   "metadata": {},
   "outputs": [
    {
     "data": {
      "image/png": "[encoded data removed]",
      "text/plain": [
       "<Figure size 432x288 with 1 Axes>"
      ]
     },
     "metadata": {},
     "output_type": "display_data"
    }
   ],
   "source": [
    "show_graph(adj,l1)\n"
   ]
  },
  {
   "cell_type": "markdown",
   "id": "75f05144-be29-4a6e-bb71-a69555ca19d7",
   "metadata": {},
   "source": [
    "<div dir=\"rtl\">\n",
    "    برای داشتن تعداد بیشتری خوشه، می‌توان بردار ویژه‌های بیشتری در نظر گرفت.\n",
    "    برای مثال، برای داشتن ۴ خوشه می‌توانید بردار ویژه‌ی متناظر با ۲ کوچک‌ترین مقدار ویژه‌های مثبت را در نظر بگیرید.\n",
    "    حال به ازای هر راس، دو درایه در این دو بردار ویژه داریم.\n",
    "    می‌توانید ۴ خوشه را به صورت زیر در نظر بگیرید:\n",
    "    <ul>\n",
    "        <li>$(+,+)$</li>\n",
    "        <li>$(+,-)$</li>\n",
    "        <li>$(-,+)$</li>\n",
    "        <li>$(-,-)$</li>\n",
    "    </ul>\n",
    "    با انجام این خوشه‌بندی روی گراف اولیه، می‌توانید مشاهده کنید خوشه‌بندی مناسب نبوده و همان دو خوشه‌ی اولیه دقیق‌تر بودند.\n",
    "</div>"
   ]
  },
  {
   "cell_type": "code",
   "execution_count": null,
   "id": "0ab87d8c-70b8-43a1-87a1-cd27fcfbb27f",
   "metadata": {},
   "outputs": [],
   "source": [
    "# Your code\n"
   ]
  },
  {
   "cell_type": "markdown",
   "id": "7d4106d9-8e92-42c7-bd4e-6e5be8327e90",
   "metadata": {},
   "source": [
    "<div dir=\"rtl\">\n",
    "    گراف را با خوشه‌هایی که بدست آوردید توسط تابع show_graph نمایش دهید.\n",
    "</div>"
   ]
  },
  {
   "cell_type": "code",
   "execution_count": null,
   "id": "f7f75bf2-ddd0-465a-a878-1503c23f833b",
   "metadata": {},
   "outputs": [],
   "source": [
    "# Your code\n"
   ]
  },
  {
   "cell_type": "markdown",
   "id": "b501b1c5-d1d0-45bd-8050-cb6c4b791675",
   "metadata": {},
   "source": [
    "<div dir=\"rtl\">\n",
    "    <h2>\n",
    "        گراف اصلی\n",
    "    </h2>\n",
    "</div>"
   ]
  },
  {
   "cell_type": "markdown",
   "id": "382e6c9b-8e14-4051-ac6b-682f3cebf774",
   "metadata": {},
   "source": [
    "<div dir=\"rtl\">\n",
    "    اگر چه در گراف تمرینی خوشه‌بندی با چشم هم قابل مشاهده بود، در گراف با رئوس بیشتر این کار به صورت چشمی ممکن نیست.\n",
    "    در این قسمت، مراحل بالا را روی گراف اصلی اجرا کنید و خوشه‌بندی با ۲ و ۴ خوشه را بدست آورید.\n",
    "</div>"
   ]
  },
  {
   "cell_type": "code",
   "execution_count": null,
   "id": "e708ae1c-c865-4dc9-adcc-0cbbb203b592",
   "metadata": {},
   "outputs": [],
   "source": [
    "adj_final = np.zeros((100, 100))\n",
    "file1 = open('data.txt', 'r')\n",
    "lines = file1.readlines()\n",
    "print(len(lines))\n",
    "for l in lines:\n",
    "    i, j = l.split()\n",
    "    adj_final[int(i) - 1, int(j) - 1] = 1\n",
    "    adj_final[int(j) - 1, int(i) - 1] = 1\n"
   ]
  },
  {
   "cell_type": "code",
   "execution_count": null,
   "id": "b35ccfa5-5d9f-416a-a601-4a7b9ab46e28",
   "metadata": {},
   "outputs": [],
   "source": [
    "# Your code\n"
   ]
  },
  {
   "cell_type": "markdown",
   "id": "d2b3ecf1-2580-4680-8e28-3ab922f009cb",
   "metadata": {},
   "source": [
    "<div dir=\"rtl\">\n",
    "    گراف‌هایی که با ۲ و ۴ خوشه، خوشه‌بندی کردید را توسط تابع show_graph نمایش دهید.\n",
    "</div>"
   ]
  },
  {
   "cell_type": "code",
   "execution_count": null,
   "id": "f8314ddd-1e34-4952-a93f-fd3e7e5fd235",
   "metadata": {},
   "outputs": [],
   "source": [
    "# Your code\n"
   ]
  }
 ],
 "metadata": {
  "kernelspec": {
   "display_name": "Python 3 (ipykernel)",
   "language": "python",
   "name": "python3"
  },
  "language_info": {
   "codemirror_mode": {
    "name": "ipython",
    "version": 3
   },
   "file_extension": ".py",
   "mimetype": "text/x-python",
   "name": "python",
   "nbconvert_exporter": "python",
   "pygments_lexer": "ipython3",
   "version": "3.10.2"
  },
  "vscode": {
   "interpreter": {
    "hash": "287ee184d78959fade4213e06aa8453c71d17316fcbc60aa682b94ecd5afe758"
   }
  }
 },
 "nbformat": 4,
 "nbformat_minor": 5
}
